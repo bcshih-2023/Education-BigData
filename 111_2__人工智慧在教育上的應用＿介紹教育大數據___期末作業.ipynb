{
  "nbformat": 4,
  "nbformat_minor": 0,
  "metadata": {
    "colab": {
      "provenance": []
    },
    "kernelspec": {
      "name": "python3",
      "display_name": "Python 3"
    },
    "language_info": {
      "name": "python"
    }
  },
  "cells": [
    {
      "cell_type": "markdown",
      "source": [
        "# **111-2 亞洲大學 - 教育大數據跨領域學程**\n",
        "\n",
        "# **人工智慧在教育上的應用【介紹教育大數據】期末作業**\n",
        "### 亞洲大學 資訊工程 109021373@live.asia.edu.tw\n",
        "\n",
        "\n",
        "# **(111-2 Asia University - Interdisciplinary Program on Educational Big Data**\n",
        "\n",
        "# **Application of Artificial Intelligence in Education 【Introduction to Educational Big Data】 final assignment**\n",
        "### Asia University Information Engineering 109021373@live.asia.edu.tw)"
      ],
      "metadata": {
        "id": "ppgRnANz7vIp"
      }
    },
    {
      "cell_type": "markdown",
      "source": [
        "# **English introduction**"
      ],
      "metadata": {
        "id": "B9d7ts7cHUFm"
      }
    },
    {
      "cell_type": "markdown",
      "source": [
        "Educational Big Data refers to the vast amount of data generated in the field of education, which stems from the daily activities and operations of students, teachers, schools, and other relevant educational institutions. This data can include students' academic performance, test results, learning activity records, social interactions, teachers' instructional methods, and assessments, among others.\n",
        "\n",
        "The emergence of educational big data is a result of the widespread adoption and application of digital educational tools such as learning management systems, online learning platforms, educational games, and intelligent learning systems. These tools collect and record various behaviors and data of students during the learning process, forming a substantial volume of educational data.\n",
        "\n",
        "Educational big data has the following characteristics:\n",
        "\n",
        "1. Massive scale: Educational big data involves a large quantity of data, encompassing millions or even billions of students and teachers.\n",
        "\n",
        "2. Diversity: Educational big data encompasses various types of data, including structured data (such as grades and assessment results) and unstructured data (such as students' textual feedback and discussions).\n",
        "\n",
        "3. Real-time nature: Educational big data can be collected, analyzed, and applied in real-time, enabling educators to promptly understand students' learning situations and needs, and adjust their instruction accordingly.\n",
        "\n",
        "The application of educational big data can assist educators and policy-makers in making more informed decisions and enhancing student learning and teaching effectiveness. Here are some application scenarios of educational big data:\n",
        "\n",
        "1. Learning analytics: By analyzing students' learning behaviors and data, educators can understand their learning styles, difficulties, and needs, enabling personalized instruction and guidance.\n",
        "\n",
        "2. Predictive analytics: Utilizing educational big data, it is possible to predict students' learning outcomes, difficulties, and progress. These predictions can help educators identify students in need of additional support in advance and provide targeted instruction and counseling.\n",
        "\n",
        "3. Instructional improvement: Through the analysis of teachers' instructional methods and students' learning performance, educational big data can reveal effective teaching strategies and best practices, thereby assisting teachers in improving their instructional approaches.\n",
        "\n",
        "4. School management and policy-making: Educational big data can provide valuable information to school administrators and policy-makers regarding school operations and educational policies. For instance, it can analyze student mobility, teacher allocation, and curriculum arrangements to optimize school functioning.\n",
        "\n",
        "5. Educational research and innovation: Educational big data offers a richer foundation for educational research, enabling researchers to discover educational phenomena and patterns, thereby driving educational innovation and reform.\n",
        "\n",
        "However, the application of educational big data also faces challenges and risks, including privacy protection, data quality, and ethical concerns. Therefore, when utilizing educational big data, it is important to comply with relevant laws and regulations, adhere to ethical guidelines, ensure data security and privacy protection, and apply the data to beneficial educational goals and practices."
      ],
      "metadata": {
        "id": "vI_IiV0jhS3-"
      }
    },
    {
      "cell_type": "markdown",
      "source": [
        "# **中文介紹**"
      ],
      "metadata": {
        "id": "mIcUzQWHG5zs"
      }
    },
    {
      "cell_type": "markdown",
      "source": [
        "### 教育大數據（Educational Big Data）是指在教育領域中產生的大量數據，這些數據來自於學生、教師、學校和其他相關教育機構的日常活動和操作。這些數據可以包括學生的學習成績、測試結果、學習活動記錄、學生的社交互動、教師的教學方法和評估等。\n",
        "\n",
        "### 教育大數據的產生源於數字化教育工具的普及和應用，如學習管理系統、在線學習平台、教育遊戲和智能學習系統等。這些工具收集和記錄了學生在學習過程中的各種行為和數據，形成了大量的教育數據。\n",
        "\n",
        "### 教育大數據具有以下幾個特點：\n",
        "\n",
        "1. 規模龐大：教育大數據的數量非常大，涉及到數百萬乃至上億的學生和教師。\n",
        "\n",
        "2. 多樣性：教育大數據包含了多種類型的數據，包括結構化數據（如成績和評測結果）和非結構化數據（如學生的文本反饋和討論）。\n",
        "\n",
        "3. 即時性：教育大數據能夠實時收集、分析和應用，使得教育者能夠及時了解學生的學習狀況和需求，並根據這些信息進行教學調整。教育大數據的應用可以幫助教育者和政策制定者做出更明智的決策，促進學生的學習和教學的效果。以下是教育大數據的一些應用場景：\n",
        "\n",
        "1. 學習分析：通過分析學生的學習行為和數據，教育者可以了解學生的學習風格、困難點和需求，從而提供個性化的教學和指導。\n",
        "\n",
        "2. 預測分析：利用教育大數據，可以預測學生的學習成績、學習困難、學習進展等。這些預測可以幫助教育者提前識別出需要額外支援的學生，並針對性地提供教學和輔導。\n",
        "\n",
        "3. 教學改進：通過分析教師的教學方法和學生的學習表現，教育大數據可以揭示有效的教學策略和最佳實踐，從而幫助教師改進自己的教學方式。\n",
        "\n",
        "4. 學校管理和政策制定：教育大數據可以提供學校管理者和政策制定者有關學校運營和教育政策的重要信息。例如，可以分析學生流動情況、師資配置和課程安排，以優化學校的運作。\n",
        "\n",
        "5. 教育研究和創新：教育大數據為教育研究提供了更豐富的數據基礎，研究者可以利用這些數據來發現教育現象和規律，從而推動教育創新和改革。\n",
        "\n",
        "然而，教育大數據的應用也面臨一些挑戰和風險，包括隱私保護、數據品質和倫理問題等。因此，在應用教育大數據時，需要遵守相應的法律法規和道德準則，確保數據的安全和隱私保護，並將數據應用於有益的教育目標和實踐中。"
      ],
      "metadata": {
        "id": "3VmIMs8PheSj"
      }
    },
    {
      "cell_type": "markdown",
      "source": [
        "# AIE - 用 Colab 學 R 語言 (AIE - Learn R language with Colab)\n",
        "# 統計的部分需要先有 R 語言的基礎，以下介紹基礎的 R 語言 (The statistical part requires the foundation of R language first, and the basic R language is introduced below)\n",
        "\n",
        "https://colab.research.google.com/drive/1iz6ILnVGt8Qc6UR1l7oTPou4l6WSrw9S\n",
        "\n",
        "https://www.w3schools.com/r/"
      ],
      "metadata": {
        "id": "9F_otXWOm9JD"
      }
    },
    {
      "cell_type": "markdown",
      "source": [
        "## Variables and assignments (變量和賦值)"
      ],
      "metadata": {
        "id": "JTHN4F7inKbK"
      }
    },
    {
      "cell_type": "code",
      "source": [
        "x <- \"Hello World!\"\n",
        "print(x)"
      ],
      "metadata": {
        "id": "aWm2d9AfnfaQ"
      },
      "execution_count": null,
      "outputs": []
    },
    {
      "cell_type": "code",
      "source": [
        "x <- c(10.4, 5.6, 3.1, 6.4, 21.7) \n",
        "print(x[1:5])"
      ],
      "metadata": {
        "id": "_pVl2AZZnaMG"
      },
      "execution_count": null,
      "outputs": []
    },
    {
      "cell_type": "code",
      "source": [
        "a <- c(33, 44, 92, 58)      # combine numbers into a vector\n",
        "length(a)\n",
        "sum(a)\n",
        "median(a)  ;  mad(a)\n",
        "ls()                 # list names of objects in your environment\n",
        "class(a)               # state the `class' of an R object (described in III below)\n",
        "str(a)                # state the structure of an R object\n",
        "summary(a)              # many R objects have a built-in 'summary' function"
      ],
      "metadata": {
        "id": "0ySI7o1o5xgs"
      },
      "execution_count": null,
      "outputs": []
    },
    {
      "cell_type": "code",
      "source": [
        "# Manipulation of vector indices\n",
        "\n",
        "a[1:4]           # show all four elements of the vector\n",
        "a[3]            # note that R vectors start with index 1 not 0, unlike Python\n",
        "a > 40          # logical operation\n",
        "sum(a[a>40])        # note the self-referential use of vector/array indices here\n",
        "which.max(a)        # R has many built-in functions for vectors and arrays\n",
        "match(44, a)"
      ],
      "metadata": {
        "id": "ZSLAeZGf55mR"
      },
      "execution_count": null,
      "outputs": []
    },
    {
      "cell_type": "markdown",
      "source": [
        "# functions"
      ],
      "metadata": {
        "id": "_MEd8n7S6HFV"
      }
    },
    {
      "cell_type": "code",
      "source": [
        "getwd()"
      ],
      "metadata": {
        "id": "g3XJcavk6HnC"
      },
      "execution_count": null,
      "outputs": []
    },
    {
      "cell_type": "code",
      "source": [
        "library()"
      ],
      "metadata": {
        "id": "h7KAE29X6KqT"
      },
      "execution_count": null,
      "outputs": []
    },
    {
      "cell_type": "markdown",
      "source": [
        "# packages\n",
        "\n",
        "* ggplot2\n",
        "* Bioconductor\n",
        "\n",
        "http://r-statistics.co/Complete-Ggplot2-Tutorial-Part1-With-R-Code.html"
      ],
      "metadata": {
        "id": "KSKR1ECs6QJE"
      }
    },
    {
      "cell_type": "code",
      "source": [
        "install.packages(\"ggplot2\")"
      ],
      "metadata": {
        "id": "5uLlJAsu6TC3"
      },
      "execution_count": null,
      "outputs": []
    },
    {
      "cell_type": "code",
      "source": [
        "library(ggplot2)\n",
        "data(\"midwest\", package = \"ggplot2\")"
      ],
      "metadata": {
        "id": "SHuDWt8h6Xa7"
      },
      "execution_count": null,
      "outputs": []
    },
    {
      "cell_type": "code",
      "source": [
        "ggplot(midwest, aes(x=area, y=poptotal))  # area and poptotal are columns in 'midwest'"
      ],
      "metadata": {
        "id": "9it-x7MU6bKv"
      },
      "execution_count": null,
      "outputs": []
    },
    {
      "cell_type": "code",
      "source": [
        "library(ggplot2)\n",
        "ggplot(midwest, aes(x=area, y=poptotal)) + geom_point()"
      ],
      "metadata": {
        "id": "-a9cq20G6c_Q"
      },
      "execution_count": null,
      "outputs": []
    },
    {
      "cell_type": "code",
      "source": [
        "library(ggplot2)\n",
        "g <- ggplot(midwest, aes(x=area, y=poptotal)) + geom_point() + geom_smooth(method=\"lm\")  # set se=FALSE to turnoff confidence bands\n",
        "\n",
        "# Zoom in without deleting the points outside the limits. \n",
        "# As a result, the line of best fit is the same as the original plot.\n",
        "g1 <- g + coord_cartesian(xlim=c(0,0.1), ylim=c(0, 1000000))  # zooms in\n",
        "plot(g1)"
      ],
      "metadata": {
        "id": "aAE5lz-46e8u"
      },
      "execution_count": null,
      "outputs": []
    },
    {
      "cell_type": "markdown",
      "source": [
        "## 1.   清單項目\n",
        "## 2.   清單項目\n",
        "\n",
        "\n",
        "https://www.bioconductor.org/"
      ],
      "metadata": {
        "id": "5GF-pP4j6owm"
      }
    },
    {
      "cell_type": "code",
      "source": [
        "if (!require(\"BiocManager\", quietly = TRUE))\n",
        "    install.packages(\"BiocManager\")\n",
        "BiocManager::install(version = \"3.17\")"
      ],
      "metadata": {
        "id": "eCZJh5YJ6tw_"
      },
      "execution_count": null,
      "outputs": []
    },
    {
      "cell_type": "code",
      "source": [
        "BiocManager::install(c(\"GenomicFeatures\", \"AnnotationDbi\"))"
      ],
      "metadata": {
        "id": "c9-9_BFZ6wmP"
      },
      "execution_count": null,
      "outputs": []
    },
    {
      "cell_type": "code",
      "source": [
        "BiocManager::install()"
      ],
      "metadata": {
        "id": "Tq92Wsau6wug"
      },
      "execution_count": null,
      "outputs": []
    },
    {
      "cell_type": "code",
      "source": [
        "## try http:// if https:// URLs are not supported\n",
        "source(\"https://bioconductor.org/biocLite.R\")\n",
        "biocLite(\"DESeq\")"
      ],
      "metadata": {
        "id": "3yRxK6Q76w4d"
      },
      "execution_count": null,
      "outputs": []
    },
    {
      "cell_type": "markdown",
      "source": [
        "# 以下資料為亞洲大學之前辦理教育大數據相關的比賽 (The following information is for the competitions related to educational big data held by Asia University)\n",
        "\n",
        "<img src=\"https://aidea-web.tw/images/web/logo_white.png\" alt=\"AIdea\" border=\"0\">\n",
        "\n",
        "# AIE-圖書館資源對學習成效之影響預測\n",
        "\n",
        "本議題以亞洲大學 100-107 學年度學生的修課資訊與排名資訊、圖書館借閱紀錄、圖書館進出館紀錄作為資料集，預測學生 107 學年度第二學期 (相較於第一學期) 的個人排名進退步幅度，期望參賽者透過 AI 技術找出圖書館資源的利用程度與學習成效間的關係。\n",
        "\n",
        "https://aidea-web.tw/topic/bcbbb758-3034-4ad4-8648-af9c45ea1137\n"
      ],
      "metadata": {
        "id": "QCwhRhk0h_Lr"
      }
    },
    {
      "cell_type": "markdown",
      "source": [
        "# 亞洲大學 - 圖書館資料 (Asia University - Library Materials)\n",
        "\n",
        "If the following command does not work, please download it, put it on your Google drive, and set up sharing\n",
        "\n",
        "Download from:\n",
        "https://drive.google.com/file/d/1-M0SXaDdlMkVWT0jN8NxuE7Gv0jUQ3c3/view?usp=share_link"
      ],
      "metadata": {
        "id": "P7OCdj6didW5"
      }
    },
    {
      "cell_type": "code",
      "source": [
        "%%bash\n",
        "pip install --upgrade gdown\n",
        "gdown https://drive.google.com/uc?id=1-M0SXaDdlMkVWT0jN8NxuE7Gv0jUQ3c3\n",
        "unzip au_library.zip\n",
        "rm au_library.zip"
      ],
      "metadata": {
        "id": "AMzAghoBiwvZ"
      },
      "execution_count": null,
      "outputs": []
    },
    {
      "cell_type": "code",
      "source": [
        "%cd au_library\n",
        "%ls"
      ],
      "metadata": {
        "id": "YXgNFD9glErO"
      },
      "execution_count": null,
      "outputs": []
    },
    {
      "cell_type": "markdown",
      "source": [
        "# 圖書借閱紀錄\n",
        "\n",
        "## 圖書借閱紀錄，共 332,825 筆\n",
        "# (Book borrowing record Book borrowing records, a total of 332,825 items)"
      ],
      "metadata": {
        "id": "pYQ_s3MklIU6"
      }
    },
    {
      "cell_type": "code",
      "source": [
        "import pandas as pd\n",
        "df_borrow = pd.read_csv('borrowing_record.csv')\n",
        "df_borrow.head()"
      ],
      "metadata": {
        "id": "0Kvf3Y-NlJA0"
      },
      "execution_count": null,
      "outputs": []
    },
    {
      "cell_type": "markdown",
      "source": [
        "# 學生修課資料\n",
        "\n",
        "## 100-107 學年學生修課資料，共 762,015 筆\n",
        "\n",
        "## (Student course information 100-107 academic year student course materials, a total of 762,015 records)"
      ],
      "metadata": {
        "id": "G2PFUYwAlTRG"
      }
    },
    {
      "cell_type": "code",
      "source": [
        "import pandas as pd\n",
        "df_course = pd.read_csv('course_train.csv')\n",
        "df_course.head()"
      ],
      "metadata": {
        "id": "_2DVYGCHlXQa"
      },
      "execution_count": null,
      "outputs": []
    },
    {
      "cell_type": "markdown",
      "source": [
        "# 學生圖書館的進出次數 (Number of entries and exits of the student library)"
      ],
      "metadata": {
        "id": "h5vaE-kzlnIJ"
      }
    },
    {
      "cell_type": "code",
      "source": [
        "import pandas as pd\n",
        "df_io = pd.read_csv('library_in_and_out_record.csv')\n",
        "df_io.head()"
      ],
      "metadata": {
        "id": "axzDjZrYlsXM"
      },
      "execution_count": null,
      "outputs": []
    },
    {
      "cell_type": "markdown",
      "source": [
        "# 學生概化排名 (Student generalized ranking)"
      ],
      "metadata": {
        "id": "qCZi7H3ulwjl"
      }
    },
    {
      "cell_type": "code",
      "source": [
        "import pandas as pd\n",
        "df_rank = pd.read_csv('rank_train.csv')\n",
        "df_rank.head()"
      ],
      "metadata": {
        "id": "Yxt7dt4fl7ki"
      },
      "execution_count": null,
      "outputs": []
    },
    {
      "cell_type": "markdown",
      "source": [
        "# 學生概化預測 (Student Generalized Prediction)"
      ],
      "metadata": {
        "id": "VcERmOWLl_PN"
      }
    },
    {
      "cell_type": "code",
      "source": [
        "import pandas as pd\n",
        "df_submit = pd.read_csv('submit.csv')\n",
        "df_submit.head()"
      ],
      "metadata": {
        "id": "v0TZa79rmF_P"
      },
      "execution_count": null,
      "outputs": []
    }
  ]
}